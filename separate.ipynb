{
 "cells": [
  {
   "cell_type": "code",
   "execution_count": null,
   "id": "5bb8b0c9",
   "metadata": {},
   "outputs": [],
   "source": [
    "import os\n",
    "import numpy as np\n",
    "import skimage\n",
    "import imgaug\n",
    "import matplotlib.patches as patches\n",
    "import cv2\n",
    "import shutil\n",
    "import timeit\n",
    "import porespy as ps\n",
    "import openpnm as op\n",
    "import scipy.ndimage as spim\n",
    "import matplotlib.pyplot as plt\n",
    "from porespy.filters import find_peaks, trim_saddle_points, trim_nearby_peaks\n",
    "from porespy.tools import randomize_colors\n",
    "from skimage.segmentation import watershed\n",
    "import eilnn"
   ]
  },
  {
   "cell_type": "code",
   "execution_count": null,
   "id": "0fe91e9e",
   "metadata": {},
   "outputs": [],
   "source": [
    "image_path = eilnn.IMAGES_DIR\n",
    "label_path = os.path.join(image_path, 'pore_spy_tests', 'label_export')\n",
    "labels = eilnn.load_label(label_path)"
   ]
  },
  {
   "cell_type": "code",
   "execution_count": null,
   "id": "554ef69c",
   "metadata": {},
   "outputs": [],
   "source": [
    "labels_binary = np.where(labels>1,1,0)"
   ]
  },
  {
   "cell_type": "code",
   "execution_count": null,
   "id": "3ca0dec5",
   "metadata": {},
   "outputs": [],
   "source": [
    "plt.imshow(labels_binary[200,:,:])"
   ]
  },
  {
   "cell_type": "code",
   "execution_count": null,
   "id": "4327a0b8",
   "metadata": {},
   "outputs": [],
   "source": []
  },
  {
   "cell_type": "code",
   "execution_count": null,
   "id": "cfbbc1ef",
   "metadata": {},
   "outputs": [],
   "source": []
  },
  {
   "cell_type": "code",
   "execution_count": null,
   "id": "f5eaa712",
   "metadata": {},
   "outputs": [],
   "source": []
  },
  {
   "cell_type": "code",
   "execution_count": null,
   "id": "040df600",
   "metadata": {},
   "outputs": [],
   "source": [
    "\n"
   ]
  },
  {
   "cell_type": "code",
   "execution_count": null,
   "id": "8eb7c795",
   "metadata": {},
   "outputs": [],
   "source": []
  },
  {
   "cell_type": "code",
   "execution_count": null,
   "id": "9810c195",
   "metadata": {},
   "outputs": [],
   "source": []
  },
  {
   "cell_type": "code",
   "execution_count": null,
   "id": "e9ead2af",
   "metadata": {},
   "outputs": [],
   "source": []
  },
  {
   "cell_type": "code",
   "execution_count": null,
   "id": "18d60fc9",
   "metadata": {},
   "outputs": [],
   "source": []
  },
  {
   "cell_type": "code",
   "execution_count": null,
   "id": "2949449a",
   "metadata": {},
   "outputs": [],
   "source": []
  }
 ],
 "metadata": {
  "kernelspec": {
   "display_name": "Python 3",
   "language": "python",
   "name": "python3"
  },
  "language_info": {
   "codemirror_mode": {
    "name": "ipython",
    "version": 3
   },
   "file_extension": ".py",
   "mimetype": "text/x-python",
   "name": "python",
   "nbconvert_exporter": "python",
   "pygments_lexer": "ipython3",
   "version": "3.7.0"
  }
 },
 "nbformat": 4,
 "nbformat_minor": 5
}
