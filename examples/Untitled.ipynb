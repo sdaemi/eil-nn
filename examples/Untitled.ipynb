{
 "cells": [
  {
   "cell_type": "code",
   "execution_count": 2,
   "id": "8f9a81fb",
   "metadata": {},
   "outputs": [
    {
     "name": "stdout",
     "output_type": "stream",
     "text": [
      "Loading C:/Users/Sohrab/Documents/crack/eil-nn wip/particles_pristine.txt\n"
     ]
    }
   ],
   "source": [
    "import eilnn\n",
    "particles = eilnn.load_pickles('C:/Users/Sohrab/Documents/crack/eil-nn wip/particles_pristine.txt')"
   ]
  },
  {
   "cell_type": "code",
   "execution_count": 6,
   "id": "65c72b7c",
   "metadata": {},
   "outputs": [
    {
     "name": "stdout",
     "output_type": "stream",
     "text": [
      "<class 'numpy.ndarray'>\n"
     ]
    }
   ],
   "source": [
    "print(type(particles))"
   ]
  },
  {
   "cell_type": "code",
   "execution_count": null,
   "id": "f69819de",
   "metadata": {},
   "outputs": [],
   "source": []
  }
 ],
 "metadata": {
  "kernelspec": {
   "display_name": "Python 3",
   "language": "python",
   "name": "python3"
  },
  "language_info": {
   "codemirror_mode": {
    "name": "ipython",
    "version": 3
   },
   "file_extension": ".py",
   "mimetype": "text/x-python",
   "name": "python",
   "nbconvert_exporter": "python",
   "pygments_lexer": "ipython3",
   "version": "3.7.0"
  }
 },
 "nbformat": 4,
 "nbformat_minor": 5
}
